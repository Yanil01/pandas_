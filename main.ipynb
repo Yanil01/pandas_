{
 "cells": [
  {
   "cell_type": "code",
   "execution_count": 1,
   "metadata": {},
   "outputs": [],
   "source": [
    "import pandas as pd\n",
    "import numpy as np"
   ]
  },
  {
   "cell_type": "code",
   "execution_count": 2,
   "metadata": {},
   "outputs": [
    {
     "name": "stdout",
     "output_type": "stream",
     "text": [
      "0    100\n",
      "1     56\n",
      "2     78\n",
      "3     98\n",
      "4     23\n",
      "5     45\n",
      "6     67\n",
      "7     89\n",
      "8     90\n",
      "9    100\n",
      "dtype: int64\n"
     ]
    }
   ],
   "source": [
    "marks = pd.Series([100, 56, 78, 98, 23, 45, 67, 89, 90, 100]) # create a series of marks\n",
    "print(marks)"
   ]
  },
  {
   "cell_type": "code",
   "execution_count": 3,
   "metadata": {},
   "outputs": [
    {
     "name": "stdout",
     "output_type": "stream",
     "text": [
      "0    100\n",
      "1     56\n",
      "2     78\n",
      "3     98\n",
      "4     23\n",
      "5     45\n",
      "6     67\n",
      "7     89\n",
      "8     90\n",
      "9    100\n",
      "Name: Marks in maths , dtype: int64\n"
     ]
    }
   ],
   "source": [
    "marks.name = \"Marks in maths \" # name of the series\n",
    "print(marks)"
   ]
  },
  {
   "cell_type": "code",
   "execution_count": 4,
   "metadata": {},
   "outputs": [
    {
     "data": {
      "text/plain": [
       "array([100,  56,  78,  98,  23,  45,  67,  89,  90, 100])"
      ]
     },
     "execution_count": 4,
     "metadata": {},
     "output_type": "execute_result"
    }
   ],
   "source": [
    "marks.values # get the values of the series"
   ]
  },
  {
   "cell_type": "code",
   "execution_count": 5,
   "metadata": {},
   "outputs": [
    {
     "data": {
      "text/plain": [
       "numpy.ndarray"
      ]
     },
     "execution_count": 5,
     "metadata": {},
     "output_type": "execute_result"
    }
   ],
   "source": [
    "type(marks.values)  # get the type of the values"
   ]
  },
  {
   "cell_type": "code",
   "execution_count": 6,
   "metadata": {},
   "outputs": [
    {
     "data": {
      "text/plain": [
       "100"
      ]
     },
     "execution_count": 6,
     "metadata": {},
     "output_type": "execute_result"
    }
   ],
   "source": [
    "marks[0] # get the first value of the series"
   ]
  },
  {
   "cell_type": "code",
   "execution_count": 7,
   "metadata": {},
   "outputs": [
    {
     "data": {
      "text/plain": [
       "RangeIndex(start=0, stop=10, step=1)"
      ]
     },
     "execution_count": 7,
     "metadata": {},
     "output_type": "execute_result"
    }
   ],
   "source": [
    "marks.index # get the index of the series"
   ]
  },
  {
   "cell_type": "code",
   "execution_count": 8,
   "metadata": {},
   "outputs": [
    {
     "name": "stdout",
     "output_type": "stream",
     "text": [
      "Avishek    100\n",
      "Ravi        56\n",
      "Rahul       78\n",
      "Rohit       98\n",
      "Raj         23\n",
      "Tom         45\n",
      "Jack        67\n",
      "Amir        89\n",
      "Bibas       90\n",
      "Rakesh     100\n",
      "Name: Marks in maths , dtype: int64\n"
     ]
    }
   ],
   "source": [
    "marks.index = [\"Avishek\", \"Ravi\", \"Rahul\", \"Rohit\", \"Raj\", \"Tom\", \"Jack\", \"Amir\", \"Bibas\", \"Rakesh\"] # change the index of the series\n",
    "print(marks)"
   ]
  },
  {
   "cell_type": "code",
   "execution_count": 9,
   "metadata": {},
   "outputs": [
    {
     "data": {
      "text/plain": [
       "Avishek    100\n",
       "Ravi        56\n",
       "Rahul       78\n",
       "Rohit       98\n",
       "Raj         23\n",
       "Tom         45\n",
       "Jack        67\n",
       "Amir        89\n",
       "Bibas       90\n",
       "Rakesh     100\n",
       "Name: Marks in maths, dtype: int64"
      ]
     },
     "execution_count": 9,
     "metadata": {},
     "output_type": "execute_result"
    }
   ],
   "source": [
    "pd.Series({\n",
    "    'Avishek': 100,\n",
    "    'Ravi': 56, \n",
    "    'Rahul': 78,\n",
    "    'Rohit': 98,\n",
    "    'Raj': 23,\n",
    "    'Tom' :45,\n",
    "    'Jack':67,\n",
    "    'Amir':89,\n",
    "    'Bibas':90,\n",
    "    'Rakesh':100\n",
    "},name=\"Marks in maths\") # create a series with dictionary"
   ]
  },
  {
   "cell_type": "code",
   "execution_count": 10,
   "metadata": {},
   "outputs": [
    {
     "data": {
      "text/plain": [
       "100"
      ]
     },
     "execution_count": 10,
     "metadata": {},
     "output_type": "execute_result"
    }
   ],
   "source": [
    "marks[\"Avishek\"] # get the value of the series with index"
   ]
  },
  {
   "cell_type": "code",
   "execution_count": 14,
   "metadata": {},
   "outputs": [
    {
     "data": {
      "text/plain": [
       "100"
      ]
     },
     "execution_count": 14,
     "metadata": {},
     "output_type": "execute_result"
    }
   ],
   "source": [
    "marks.iloc[0] # get the value of the series with index"
   ]
  },
  {
   "cell_type": "code",
   "execution_count": null,
   "metadata": {},
   "outputs": [
    {
     "data": {
      "text/plain": [
       "90"
      ]
     },
     "execution_count": 16,
     "metadata": {},
     "output_type": "execute_result"
    }
   ],
   "source": [
    "marks.iloc[-2] "
   ]
  },
  {
   "cell_type": "code",
   "execution_count": 19,
   "metadata": {},
   "outputs": [
    {
     "data": {
      "text/plain": [
       "Avishek    100\n",
       "Ravi        56\n",
       "Tom         45\n",
       "Name: Marks in maths , dtype: int64"
      ]
     },
     "execution_count": 19,
     "metadata": {},
     "output_type": "execute_result"
    }
   ],
   "source": [
    "marks[[\"Avishek\",\"Ravi\", \"Tom\"]] # multiple values of the series"
   ]
  },
  {
   "cell_type": "code",
   "execution_count": 21,
   "metadata": {},
   "outputs": [
    {
     "data": {
      "text/plain": [
       "Avishek    100\n",
       "Ravi        56\n",
       "Tom         45\n",
       "Name: Marks in maths , dtype: int64"
      ]
     },
     "execution_count": 21,
     "metadata": {},
     "output_type": "execute_result"
    }
   ],
   "source": [
    "marks.iloc[[0,1,5]] # multiple values of the series"
   ]
  },
  {
   "cell_type": "code",
   "execution_count": 23,
   "metadata": {},
   "outputs": [
    {
     "data": {
      "text/plain": [
       "Ravi     56\n",
       "Rahul    78\n",
       "Rohit    98\n",
       "Raj      23\n",
       "Name: Marks in maths , dtype: int64"
      ]
     },
     "execution_count": 23,
     "metadata": {},
     "output_type": "execute_result"
    }
   ],
   "source": [
    "marks[\"Ravi\":\"Raj\"] # slicing of the series"
   ]
  },
  {
   "cell_type": "code",
   "execution_count": 30,
   "metadata": {},
   "outputs": [
    {
     "data": {
      "text/plain": [
       "Avishek     True\n",
       "Ravi        True\n",
       "Rahul       True\n",
       "Rohit       True\n",
       "Raj        False\n",
       "Tom        False\n",
       "Jack        True\n",
       "Amir        True\n",
       "Bibas       True\n",
       "Rakesh      True\n",
       "Name: Marks in maths , dtype: bool"
      ]
     },
     "execution_count": 30,
     "metadata": {},
     "output_type": "execute_result"
    }
   ],
   "source": [
    "marks > 50 # get the boolean values of the series"
   ]
  },
  {
   "cell_type": "code",
   "execution_count": 31,
   "metadata": {},
   "outputs": [
    {
     "data": {
      "text/plain": [
       "Avishek    100\n",
       "Rohit       98\n",
       "Amir        89\n",
       "Bibas       90\n",
       "Rakesh     100\n",
       "Name: Marks in maths , dtype: int64"
      ]
     },
     "execution_count": 31,
     "metadata": {},
     "output_type": "execute_result"
    }
   ],
   "source": [
    "marks[marks > 80] # get the values of the series which are greater than 50  "
   ]
  },
  {
   "cell_type": "code",
   "execution_count": 32,
   "metadata": {},
   "outputs": [
    {
     "data": {
      "text/plain": [
       "74.6"
      ]
     },
     "execution_count": 32,
     "metadata": {},
     "output_type": "execute_result"
    }
   ],
   "source": [
    "marks.mean() # get the mean of the series   "
   ]
  },
  {
   "cell_type": "code",
   "execution_count": 33,
   "metadata": {},
   "outputs": [
    {
     "data": {
      "text/plain": [
       "Avishek    100\n",
       "Rahul       78\n",
       "Rohit       98\n",
       "Amir        89\n",
       "Bibas       90\n",
       "Rakesh     100\n",
       "Name: Marks in maths , dtype: int64"
      ]
     },
     "execution_count": 33,
     "metadata": {},
     "output_type": "execute_result"
    }
   ],
   "source": [
    "marks[marks > marks.mean()] # get the values of the series which are greater than the mean"
   ]
  },
  {
   "cell_type": "code",
   "execution_count": 35,
   "metadata": {},
   "outputs": [
    {
     "data": {
      "text/plain": [
       "count     10.000000\n",
       "mean      74.600000\n",
       "std       26.323627\n",
       "min       23.000000\n",
       "25%       58.750000\n",
       "50%       83.500000\n",
       "75%       96.000000\n",
       "max      100.000000\n",
       "Name: Marks in maths , dtype: float64"
      ]
     },
     "execution_count": 35,
     "metadata": {},
     "output_type": "execute_result"
    }
   ],
   "source": [
    "marks.describe() # get the statistics of the series"
   ]
  },
  {
   "cell_type": "code",
   "execution_count": 36,
   "metadata": {},
   "outputs": [
    {
     "data": {
      "text/plain": [
       "26.32362690309474"
      ]
     },
     "execution_count": 36,
     "metadata": {},
     "output_type": "execute_result"
    }
   ],
   "source": [
    "marks.std() # get the standard deviation of the series"
   ]
  },
  {
   "cell_type": "code",
   "execution_count": 41,
   "metadata": {},
   "outputs": [
    {
     "data": {
      "text/plain": [
       "Avishek    98\n",
       "Ravi       54\n",
       "Rahul      76\n",
       "Rohit      96\n",
       "Raj        21\n",
       "Tom        43\n",
       "Jack       65\n",
       "Amir       87\n",
       "Bibas      88\n",
       "Rakesh     98\n",
       "Name: Marks in maths , dtype: int64"
      ]
     },
     "execution_count": 41,
     "metadata": {},
     "output_type": "execute_result"
    }
   ],
   "source": [
    "marks - 2 # add the series with 2\n"
   ]
  },
  {
   "cell_type": "code",
   "execution_count": 43,
   "metadata": {},
   "outputs": [],
   "source": [
    "marks[\"Avishek\"] = 97 # change the value of the series"
   ]
  },
  {
   "cell_type": "code",
   "execution_count": 44,
   "metadata": {},
   "outputs": [
    {
     "data": {
      "text/plain": [
       "Avishek     97\n",
       "Ravi        56\n",
       "Rahul       78\n",
       "Rohit       98\n",
       "Raj         23\n",
       "Tom         45\n",
       "Jack        67\n",
       "Amir        89\n",
       "Bibas       90\n",
       "Rakesh     100\n",
       "Name: Marks in maths , dtype: int64"
      ]
     },
     "execution_count": 44,
     "metadata": {},
     "output_type": "execute_result"
    }
   ],
   "source": [
    "marks"
   ]
  },
  {
   "cell_type": "code",
   "execution_count": 46,
   "metadata": {},
   "outputs": [],
   "source": [
    "marks.iloc[-1] = 87"
   ]
  },
  {
   "cell_type": "code",
   "execution_count": 47,
   "metadata": {},
   "outputs": [
    {
     "data": {
      "text/plain": [
       "Avishek    97\n",
       "Ravi       56\n",
       "Rahul      78\n",
       "Rohit      98\n",
       "Raj        23\n",
       "Tom        45\n",
       "Jack       67\n",
       "Amir       89\n",
       "Bibas      90\n",
       "Rakesh     87\n",
       "Name: Marks in maths , dtype: int64"
      ]
     },
     "execution_count": 47,
     "metadata": {},
     "output_type": "execute_result"
    }
   ],
   "source": [
    "marks"
   ]
  },
  {
   "cell_type": "code",
   "execution_count": 48,
   "metadata": {},
   "outputs": [],
   "source": [
    "marks[marks<50]=50"
   ]
  },
  {
   "cell_type": "code",
   "execution_count": 49,
   "metadata": {},
   "outputs": [
    {
     "data": {
      "text/plain": [
       "Avishek    97\n",
       "Ravi       56\n",
       "Rahul      78\n",
       "Rohit      98\n",
       "Raj        50\n",
       "Tom        50\n",
       "Jack       67\n",
       "Amir       89\n",
       "Bibas      90\n",
       "Rakesh     87\n",
       "Name: Marks in maths , dtype: int64"
      ]
     },
     "execution_count": 49,
     "metadata": {},
     "output_type": "execute_result"
    }
   ],
   "source": [
    "marks"
   ]
  },
  {
   "cell_type": "code",
   "execution_count": null,
   "metadata": {},
   "outputs": [],
   "source": []
  }
 ],
 "metadata": {
  "kernelspec": {
   "display_name": "Python 3",
   "language": "python",
   "name": "python3"
  },
  "language_info": {
   "codemirror_mode": {
    "name": "ipython",
    "version": 3
   },
   "file_extension": ".py",
   "mimetype": "text/x-python",
   "name": "python",
   "nbconvert_exporter": "python",
   "pygments_lexer": "ipython3",
   "version": "3.12.2"
  }
 },
 "nbformat": 4,
 "nbformat_minor": 2
}
