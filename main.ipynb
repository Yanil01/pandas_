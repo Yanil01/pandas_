{
 "cells": [
  {
   "cell_type": "code",
   "execution_count": 1,
   "metadata": {},
   "outputs": [],
   "source": [
    "import pandas as pd\n",
    "import numpy as np"
   ]
  },
  {
   "cell_type": "code",
   "execution_count": 17,
   "metadata": {},
   "outputs": [
    {
     "name": "stdout",
     "output_type": "stream",
     "text": [
      "0    100\n",
      "1     56\n",
      "2     78\n",
      "3     98\n",
      "4     23\n",
      "5     45\n",
      "6     67\n",
      "7     89\n",
      "8     90\n",
      "9    100\n",
      "dtype: int64\n"
     ]
    }
   ],
   "source": [
    "marks = pd.Series([100, 56, 78, 98, 23, 45, 67, 89, 90, 100]) # create a series of marks\n",
    "print(marks)"
   ]
  },
  {
   "cell_type": "code",
   "execution_count": 18,
   "metadata": {},
   "outputs": [
    {
     "name": "stdout",
     "output_type": "stream",
     "text": [
      "0    100\n",
      "1     56\n",
      "2     78\n",
      "3     98\n",
      "4     23\n",
      "5     45\n",
      "6     67\n",
      "7     89\n",
      "8     90\n",
      "9    100\n",
      "Name: Marks in maths , dtype: int64\n"
     ]
    }
   ],
   "source": [
    "marks.name = \"Marks in maths \" # name of the series\n",
    "print(marks)"
   ]
  },
  {
   "cell_type": "code",
   "execution_count": 19,
   "metadata": {},
   "outputs": [
    {
     "data": {
      "text/plain": [
       "array([100,  56,  78,  98,  23,  45,  67,  89,  90, 100])"
      ]
     },
     "execution_count": 19,
     "metadata": {},
     "output_type": "execute_result"
    }
   ],
   "source": [
    "marks.values # get the values of the series"
   ]
  },
  {
   "cell_type": "code",
   "execution_count": 20,
   "metadata": {},
   "outputs": [
    {
     "data": {
      "text/plain": [
       "numpy.ndarray"
      ]
     },
     "execution_count": 20,
     "metadata": {},
     "output_type": "execute_result"
    }
   ],
   "source": [
    "type(marks.values)  # get the type of the values"
   ]
  },
  {
   "cell_type": "code",
   "execution_count": 21,
   "metadata": {},
   "outputs": [
    {
     "data": {
      "text/plain": [
       "100"
      ]
     },
     "execution_count": 21,
     "metadata": {},
     "output_type": "execute_result"
    }
   ],
   "source": [
    "marks[0] # get the first value of the series"
   ]
  },
  {
   "cell_type": "code",
   "execution_count": 22,
   "metadata": {},
   "outputs": [
    {
     "data": {
      "text/plain": [
       "RangeIndex(start=0, stop=10, step=1)"
      ]
     },
     "execution_count": 22,
     "metadata": {},
     "output_type": "execute_result"
    }
   ],
   "source": [
    "marks.index # get the index of the series"
   ]
  },
  {
   "cell_type": "code",
   "execution_count": 23,
   "metadata": {},
   "outputs": [
    {
     "name": "stdout",
     "output_type": "stream",
     "text": [
      "Avishek    100\n",
      "Ravi        56\n",
      "Rahul       78\n",
      "Rohit       98\n",
      "Raj         23\n",
      "Tom         45\n",
      "Jack        67\n",
      "Amir        89\n",
      "Bibas       90\n",
      "Rakesh     100\n",
      "Name: Marks in maths , dtype: int64\n"
     ]
    }
   ],
   "source": [
    "marks.index = [\"Avishek\", \"Ravi\", \"Rahul\", \"Rohit\", \"Raj\", \"Tom\", \"Jack\", \"Amir\", \"Bibas\", \"Rakesh\"] # change the index of the series\n",
    "print(marks)"
   ]
  },
  {
   "cell_type": "code",
   "execution_count": 25,
   "metadata": {},
   "outputs": [
    {
     "data": {
      "text/plain": [
       "Avishek    100\n",
       "Ravi        56\n",
       "Rahul       78\n",
       "Rohit       98\n",
       "Raj         23\n",
       "Tom         45\n",
       "Jack        67\n",
       "Amir        89\n",
       "Bibas       90\n",
       "Rakesh     100\n",
       "Name: Marks in maths, dtype: int64"
      ]
     },
     "execution_count": 25,
     "metadata": {},
     "output_type": "execute_result"
    }
   ],
   "source": [
    "pd.Series({\n",
    "    'Avishek': 100,\n",
    "    'Ravi': 56, \n",
    "    'Rahul': 78,\n",
    "    'Rohit': 98,\n",
    "    'Raj': 23,\n",
    "    'Tom' :45,\n",
    "    'Jack':67,\n",
    "    'Amir':89,\n",
    "    'Bibas':90,\n",
    "    'Rakesh':100\n",
    "},name=\"Marks in maths\") # create a series with dictionary"
   ]
  },
  {
   "cell_type": "code",
   "execution_count": null,
   "metadata": {},
   "outputs": [
    {
     "data": {
      "text/plain": [
       "100"
      ]
     },
     "execution_count": 26,
     "metadata": {},
     "output_type": "execute_result"
    }
   ],
   "source": [
    "marks[\"Avishek\"] # get the value of the series with index"
   ]
  },
  {
   "cell_type": "code",
   "execution_count": null,
   "metadata": {},
   "outputs": [],
   "source": []
  }
 ],
 "metadata": {
  "kernelspec": {
   "display_name": "Python 3",
   "language": "python",
   "name": "python3"
  },
  "language_info": {
   "codemirror_mode": {
    "name": "ipython",
    "version": 3
   },
   "file_extension": ".py",
   "mimetype": "text/x-python",
   "name": "python",
   "nbconvert_exporter": "python",
   "pygments_lexer": "ipython3",
   "version": "3.12.2"
  }
 },
 "nbformat": 4,
 "nbformat_minor": 2
}
